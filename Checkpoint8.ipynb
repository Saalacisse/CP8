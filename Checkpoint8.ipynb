{
 "cells": [
  {
   "cell_type": "markdown",
   "id": "0938ff7f",
   "metadata": {},
   "source": [
    "### Instructions\n",
    "Après avoir visionné cette vidéo ci-dessous, vous pourrez :\n",
    "\n",
    "https://www.youtube.com/watch?v=YY5skv756pc\n",
    "\n",
    "1.1) Écrire une fonction pour obtenir et analyser le contenu html d'une page Wikipedia\n",
    "\n",
    "1.2) Écrire une fonction pour extraire le titre de l'article\n",
    "\n",
    "1.3) Écrivez une fonction pour extraire le texte de l'article pour chaque paragraphe avec leurs\n",
    "\n",
    "rubriques. Associez ces titres à leurs paragraphes respectifs dans le dictionnaire.\n",
    "\n",
    "1.4) Écrire une fonction pour collecter chaque lien qui redirige vers une autre page Wikipédia\n",
    "\n",
    "1.5) Enveloppez toutes les fonctions précédentes dans une seule fonction qui prend comme paramètres un lien Wikipedia\n",
    "\n",
    "1.6) Testez la dernière fonction sur une page Wikipédia de votre choix "
   ]
  },
  {
   "cell_type": "code",
   "execution_count": null,
   "id": "84697d6e",
   "metadata": {},
   "outputs": [],
   "source": [
    "import requests\n",
    "import string\n",
    "from bs4 import BeautifulSoup\n",
    "\n",
    "Enter_input = input(\"Search: \")\n",
    "u_i = string.capwords(Enter_input)\n",
    "lists = u_i.split()\n",
    "word = \"_\".join(lists)\n",
    "\n",
    "url = \"https://en.wikipedia.org/wiki/\"+word\n",
    "\n",
    "def wikibot (url):\n",
    "    url_open =requests.get(url)\n",
    "    soup=BeautifulSoup(url_open.content,'html.parser')\n",
    "    details = soup('table',{'class':'infobox'})\n",
    "    for i in details:\n",
    "        h=i.find_all('tr')\n",
    "        for j in h :\n",
    "            heading = j.find_all('th')\n",
    "            detail = j.find_all('td')\n",
    "            if heading is not None and detail is not None:\n",
    "                for x,y in zip(headin,detail):\n",
    "                    print (\"{} :: {}\".format(x.text,y.text))\n",
    "                    print('------------------------')\n",
    "    for i in range (1,3):\n",
    "        print(soup('p')[i].text)\n",
    "wikibot (url)"
   ]
  }
 ],
 "metadata": {
  "kernelspec": {
   "display_name": "Python 3 (ipykernel)",
   "language": "python",
   "name": "python3"
  },
  "language_info": {
   "codemirror_mode": {
    "name": "ipython",
    "version": 3
   },
   "file_extension": ".py",
   "mimetype": "text/x-python",
   "name": "python",
   "nbconvert_exporter": "python",
   "pygments_lexer": "ipython3",
   "version": "3.9.13"
  }
 },
 "nbformat": 4,
 "nbformat_minor": 5
}
